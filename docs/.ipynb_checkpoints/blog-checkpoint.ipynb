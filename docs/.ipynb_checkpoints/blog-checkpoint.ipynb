{
 "cells": [
  {
   "cell_type": "markdown",
   "id": "62610591-8549-4c3d-ba99-b74724c4f501",
   "metadata": {},
   "source": [
    "1. The Docker container is the environment for running your application. It's a complete, isolated operating system with its own Python installation and dependencies. No need for a traiditonal virtual env.\n",
    "2.A local venv is a lightweight tool created for your code editor to understand your project's dependencies.\n",
    "\n",
    "\n",
    "user model \n",
    "\n",
    "user can be created by admin only, so from django admin panel?\n",
    "User log in only, no registration. \n",
    "\n",
    "django admin and CRM admin are different users.   django admin - project's supervisor, crm admin is the owner of the crm. "
   ]
  }
 ],
 "metadata": {
  "kernelspec": {
   "display_name": "Python 3 (ipykernel)",
   "language": "python",
   "name": "python3"
  },
  "language_info": {
   "codemirror_mode": {
    "name": "ipython",
    "version": 3
   },
   "file_extension": ".py",
   "mimetype": "text/x-python",
   "name": "python",
   "nbconvert_exporter": "python",
   "pygments_lexer": "ipython3",
   "version": "3.12.3"
  }
 },
 "nbformat": 4,
 "nbformat_minor": 5
}
